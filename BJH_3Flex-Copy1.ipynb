{
 "cells": [
  {
   "cell_type": "code",
   "execution_count": 1,
   "metadata": {
    "collapsed": true
   },
   "outputs": [],
   "source": [
    "import numpy as np\n",
    "import pandas as pd\n",
    "#import scipy.optimize as opt\n",
    "from scipy.interpolate import InterpolatedUnivariateSpline\n",
    "import matplotlib.pyplot as plt\n",
    "#import os\n",
    "%matplotlib inline"
   ]
  },
  {
   "cell_type": "code",
   "execution_count": 2,
   "metadata": {
    "collapsed": true
   },
   "outputs": [],
   "source": [
    "import numpy as np\n",
    "import pandas as pd\n",
    "from scipy.interpolate import InterpolatedUnivariateSpline\n",
    "\n",
    "def get_gas_constant(gas_type='N2'):\n",
    "    const = dict()\n",
    "    if gas_type == 'N2':\n",
    "        const['A'] = 9.53\n",
    "        const['Vmol'] = 34.67\n",
    "    elif gas_type == 'Ar':\n",
    "        const['A'] = 9.53\n",
    "        const['Vmol'] = 34.67\n",
    "    else:\n",
    "        print('wrong gas type')\n",
    "        const=-1\n",
    "    return const\n",
    "\n",
    "def insert_zero(a):\n",
    "    return np.insert(a,0,0)\n",
    "\n",
    "def kelvin_radius(p_rel,const):\n",
    "    # Rc is in [A]\n",
    "    # np.log is e base\n",
    "    return -const['A'] / np.log(p_rel) \n",
    "\n",
    "def radius_to_pressure(Rc,const):\n",
    "    #Rc is in [A]\n",
    "    return np.exp(-const['A']/Rc)\n",
    "\n",
    "def thickness_Harkins_Jura(p_rel):\n",
    "    # t is in [A]\n",
    "    return   (13.99 / (0.034 - np.log10(p_rel)))**0.5\n",
    "\n",
    "def get_spline_fun(p_rels,v_stp,order=2):\n",
    "    fun_s = InterpolatedUnivariateSpline(p_rels,v_stp, k=order)\n",
    "    return fun_s\n",
    "\n",
    "def get_CSA_a(del_tw,Davg,LP,k,istep,n_step):\n",
    "    # if it is the first step, no previous pore created\n",
    "    if k==0 and istep < n_step: \n",
    "        Vd_istep = 0\n",
    "    # if it is last step, no new pore will be created\n",
    "    elif istep == n_step: \n",
    "        Vd_istep = 9999\n",
    "    # calculate Vd \n",
    "    else: \n",
    "        #print('determine Vd >> 3 has old pore')\n",
    "        Vd_istep =0\n",
    "        CSA_a=np.zeros(k)\n",
    "        CSA_a = insert_zero(CSA_a)\n",
    "        for j in range(1,k+1):\n",
    "            #CSA_a[j] = np.pi*((Rc[j]+ del_tw)**2-Rc[j]**2) *10**(-16)\n",
    "            CSA_a[j] = np.pi*((Davg[j]/2.0+ del_tw)**2-(Davg[j]/2.0)**2) *10**(-16) # this one works better\n",
    "            Vd_istep += LP[j]*CSA_a[j]\n",
    "    return Vd_istep\n",
    "\n",
    "\n",
    "def result_Vp(Davg,LP):\n",
    "    # Davg: vector\n",
    "    return np.pi*LP*(Davg/2.0)**2 *10**(-16) # return Vp vector[cm^3/g]\n",
    "\n",
    "def result_cum_Vp(Davg,LP):\n",
    "    Vp = get_Vp(Davg,LP)\n",
    "    return np.add.accumulate(Vp)\n",
    "\n"
   ]
  },
  {
   "cell_type": "code",
   "execution_count": 3,
   "metadata": {
    "collapsed": false
   },
   "outputs": [],
   "source": [
    "def BJH_calculation(p,Q,gas_type='N2'):\n",
    "    gas_const = get_gas_constant(gas_type)\n",
    "    \n",
    "    # insert the pressure=0, adsorption = 0 point \n",
    "    p = insert_zero(p)\n",
    "    Q = insert_zero(Q)\n",
    "    # make the isotherm in reverse order\n",
    "    p_reverse = p[::-1]\n",
    "    Q_reverse = Q[::-1]\n",
    "    p_rels = np.zeros(len(p_reverse))\n",
    "    q_ads  = np.zeros(len(p_reverse))\n",
    "    p_rels[:] = p_reverse\n",
    "    q_ads[:] = Q_reverse\n",
    "    #print('old p_rels',p_rels,q_ads)\n",
    "    p_rels,q_ads\n",
    "\n",
    "    #\n",
    "    VL = q_ads*gas_const['Vmol'] / 22414.0\n",
    "    n_point = len(p_rels)\n",
    "    n_step = n_point-1\n",
    "    Vd = np.zeros(n_step)\n",
    "    Vc = np.zeros(n_step)\n",
    "    dV_desorp= np.zeros(n_step)\n",
    "    status = np.zeros(n_step)\n",
    "    tw = np.zeros(n_point)\n",
    "    #print('old tw/status',n_point,n_step,tw,status)\n",
    "\n",
    "    # not using first index\n",
    "    p_rels, q_ads, tw, =insert_zero(p_rels), insert_zero(q_ads), insert_zero(tw)\n",
    "    VL,Vd, Vc, dV_desorp, status = insert_zero(VL),insert_zero(Vd),insert_zero(Vc),insert_zero(dV_desorp),insert_zero(status)\n",
    "    #print('new p_rels,q_ads',p_rels,q_ads)\n",
    "    #print('VL',VL)\n",
    "    #print('new tw/status',tw,status)\n",
    "\n",
    "    # define other vector \n",
    "    Rc, Davg, Pavg= np.zeros(len(Vd)), np.zeros(len(Vd)), np.zeros(len(Vd))\n",
    "    tw_avg, CSA_c, LP = np.zeros(len(Vd)), np.zeros(len(Vd)), np.zeros(len(Vd))\n",
    "    #print('tw_avg',tw_avg)\n",
    "\n",
    "    Rc[1]  = kelvin_radius(p_rels[1],gas_const)\n",
    "    tw[1] = thickness_Harkins_Jura(p_rels[1])\n",
    "    #print('Rc[1]/tw[1]',Rc[1],tw[1])\n",
    "\n",
    "    k=0\n",
    "\n",
    "\n",
    "    for istep in range(1,n_step+1):\n",
    "        print('\\nistep/nstep',istep,n_step)\n",
    "        status[istep]= 0 \n",
    "        #print(status)\n",
    "        if istep == n_step:\n",
    "            tw[istep+1]=0\n",
    "        else:\n",
    "            tw[istep+1] = thickness_Harkins_Jura(p_rels[istep+1])\n",
    "\n",
    "        # a) determine Vd \n",
    "        del_tw = tw[istep] - tw[istep+1]\n",
    "        #print('del_tw',del_tw)\n",
    "        #print('Vd',Vd)\n",
    "        Vd[istep] = get_CSA_a(del_tw,Davg,LP,k,istep,n_step)\n",
    "        #print('Vd vs Vd_test',Vd[istep],Vd_test[istep])\n",
    "\n",
    "        # b) check Vd with true desorption\n",
    "        dV_desorp[istep] = VL[istep] - VL[istep+1]\n",
    "        #print('dV_desorp',dV_desorp[istep])\n",
    "        if Vd[istep] >= dV_desorp[istep]: # case 1: Vd too large\n",
    "\n",
    "            status[istep] = 1\n",
    "            #print('too large check case ',status[istep])\n",
    "            #print('too large dV_desorp ',dV_desorp[istep])\n",
    "            SAW = 0\n",
    "            for j in range(1,k+1):\n",
    "                SAW += np.pi*LP[j]*Davg[j] * 10**(-8)\n",
    "            del_tw = dV_desorp[istep]/SAW  * 10**(8) # simplified version\n",
    "            #print('SAW,new del_tw',SAW,del_tw)\n",
    "        else:\n",
    "            status[istep] = 2 # case 2: normal case\n",
    "            #print('normal check case ',status[istep])\n",
    "            Vc[istep] = dV_desorp[istep]- Vd[istep]\n",
    "            #print('dV_desorp,Vc',dV_desorp[istep],Vc[istep])\n",
    "            k += 1\n",
    "            #print('n_pore',k)\n",
    "            Rc[k+1]  = kelvin_radius(p_rels[k+1],gas_const)\n",
    "            Davg[k] = 2* (Rc[k]+Rc[k+1]) *Rc[k]*Rc[k+1] / (Rc[k]**2+Rc[k+1]**2)\n",
    "            Pavg[k] = np.exp(-2*gas_const['A'] / Davg[k])\n",
    "            tw_avg[k] = thickness_Harkins_Jura(Pavg[k])\n",
    "            del_td = tw_avg[k] - tw[istep+1]\n",
    "            CSA_c[k] = np.pi*(Davg[k]/2.0+del_td)**2 *10**(-16)\n",
    "            LP[k] = Vc[istep]/CSA_c[k]\n",
    "            #print('Rc',Rc[k],Rc[k+1])\n",
    "            #print('Vc,Davg,Pavg',Vc[istep],Davg[k],Pavg[k],tw_avg[k],CSA_c[k],LP[k])\n",
    "\n",
    "        # c) updated pore diameter to the end pressure\n",
    "        if status[istep]==2: # case 2 update current new pore diameter\n",
    "            #print('updated new pore')\n",
    "            Davg[k] += 2*del_td\n",
    "        # no matter new pore created or not, updated previous diameter\n",
    "        for j in range(1,k):\n",
    "            #print('updated old pore',1,k-1)\n",
    "            Davg[j] += 2*del_tw\n",
    "        for j in range(1,k+1):\n",
    "            Rc[j] += del_tw\n",
    "        #print('Davg,Rc,LP',Davg,Rc,LP)\n",
    "\n",
    "        # for test\n",
    "        #temp1 = Davg.dot(LP)\n",
    "        #Vp = np.pi*LP*(Davg/2.0)**2 *10**(-16)\n",
    "        #Vp_cum = sum(Vp)\n",
    "        #desorp_cum = sum(dV_desorp)\n",
    "        #print('sum of Davg*LP*PI',temp1)\n",
    "        #print('Vp_cum,total_desorp',Vp_cum,desorp_cum)\n",
    "\n",
    "    #print(Davg)\n",
    "    return Davg,LP,dV_desorp"
   ]
  },
  {
   "cell_type": "code",
   "execution_count": 4,
   "metadata": {
    "collapsed": false
   },
   "outputs": [
    {
     "name": "stdout",
     "output_type": "stream",
     "text": [
      "[ 0.30445319  0.35455676  0.39906515  0.44914481  0.49916705  0.54897325\n",
      "  0.59911312  0.70041378  0.79602164  0.88106023  0.93408762  0.96615712\n",
      "  0.97399365  0.97956734  0.98856465  0.99454603] [  3.59500861   3.83271776   4.05340358   4.3075434    4.57261985\n",
      "   4.85873669   5.18098707   5.99158748   7.2030932    9.26471226\n",
      "  12.06903614  15.5078227   16.76395245  17.82505854  20.08334045\n",
      "  22.13072114]\n",
      "\n",
      "istep/nstep 1 16\n",
      "\n",
      "istep/nstep 2 16\n",
      "\n",
      "istep/nstep 3 16\n",
      "\n",
      "istep/nstep 4 16\n",
      "\n",
      "istep/nstep 5 16\n",
      "\n",
      "istep/nstep 6 16\n",
      "\n",
      "istep/nstep 7 16\n",
      "\n",
      "istep/nstep 8 16\n",
      "\n",
      "istep/nstep 9 16\n",
      "\n",
      "istep/nstep 10 16\n",
      "\n",
      "istep/nstep 11 16\n",
      "\n",
      "istep/nstep 12 16\n",
      "\n",
      "istep/nstep 13 16\n",
      "\n",
      "istep/nstep 14 16\n",
      "\n",
      "istep/nstep 15 16\n",
      "\n",
      "istep/nstep 16 16\n"
     ]
    }
   ],
   "source": [
    "# data reading \n",
    "p = np.array([0.1,0.6,0.9])\n",
    "Q = np.array([1,10,12])\n",
    "iso_df = pd.read_excel('test_iso.xlsx',sheetname='3_14')\n",
    "software_result = pd.read_excel('test_psd.xlsx',sheetname='3_14')\n",
    "p_measure = np.array(iso_df['p_rels'])\n",
    "Q_measure = np.array(iso_df['q_abs'])\n",
    "print(p_measure,Q_measure)\n",
    "p = p_measure\n",
    "Q = Q_measure\n",
    "Davg,LP,dV_desorp = BJH_calculation(p,Q,'Ar')"
   ]
  },
  {
   "cell_type": "code",
   "execution_count": 15,
   "metadata": {
    "collapsed": false
   },
   "outputs": [
    {
     "data": {
      "text/plain": [
       "[<matplotlib.lines.Line2D at 0xb84f320>]"
      ]
     },
     "execution_count": 15,
     "metadata": {},
     "output_type": "execute_result"
    },
    {
     "data": {
      "image/png": "[encoded data removed]",
      "text/plain": [
       "<matplotlib.figure.Figure at 0xb8686d8>"
      ]
     },
     "metadata": {},
     "output_type": "display_data"
    }
   ],
   "source": [
    "gas_const = get_gas_constant()\n",
    "radius = np.array([17.3,18.3,20.8,23.5,26.5,29.5,33.3,37.7,42.9,49.3,66.9,98,165.2,325.3,750.9,965.5,1735.5,3192])/2\n",
    "p_calculate = radius_to_pressure(radius,gas_const)\n",
    "p_calculate,p_measure\n",
    "iso_spline = get_spline_fun(p_measure,Q_measure,3)\n",
    "Q_calculate = iso_spline(p_calculate)\n",
    "\n",
    "p = p_calculate\n",
    "Q = Q_calculate\n",
    "figure = plt.figure()\n",
    "plt.plot(p_measure,Q_measure,'k.-')\n",
    "plt.plot(p_calculate,Q_calculate,'r.')\n"
   ]
  },
  {
   "cell_type": "code",
   "execution_count": 5,
   "metadata": {
    "collapsed": false
   },
   "outputs": [
    {
     "name": "stdout",
     "output_type": "stream",
     "text": [
      "[ 0.          0.00330746  0.00375936  0.00180339  0.00218147  0.00640208\n",
      "  0.00562806  0.00436971  0.00254612  0.00165767  0.0006482   0.00058069\n",
      "  0.00055073  0.00055514  0.0005072   0.00014844  0.        ]\n",
      "0.0346457213317\n"
     ]
    },
    {
     "data": {
      "image/png": "[encoded data removed]",
      "text/plain": [
       "<matplotlib.figure.Figure at 0x9fcbba8>"
      ]
     },
     "metadata": {},
     "output_type": "display_data"
    }
   ],
   "source": [
    "Vp = np.pi*LP*(Davg/2.0)**2 *10**(-16)\n",
    "#Vp1_cumm = get_cum_Vp(Davg,LP)\n",
    "print(Vp)\n",
    "#print(VL[1])\n",
    "Vp_cumm=np.add.accumulate(Vp)\n",
    "#print(Vp1_cumm,Vp_cumm)\n",
    "#print(Davg)\n",
    "Vp_cum = sum(Vp)\n",
    "print(Vp_cum)\n",
    "#residual = Vp_cum -  \n",
    "figure = plt.figure()\n",
    "plt.semilogx(Davg[1:],Vp[1:],'g.-')\n",
    "plt.semilogx(Davg[1:],dV_desorp[1:],'r.-')\n",
    "plt.semilogx(software_result['D'],software_result['IPV'],'k.-')\n",
    "plt.grid()\n"
   ]
  },
  {
   "cell_type": "code",
   "execution_count": 6,
   "metadata": {
    "collapsed": false
   },
   "outputs": [
    {
     "name": "stdout",
     "output_type": "stream",
     "text": [
      "4.54274594656e-09\n"
     ]
    }
   ],
   "source": [
    "Vp_output=np.array([0.,0.00330746,0.00375936,0.00180339,0.00218147,0.00640208,0.00562806,0.00436971,0.00254612,\n",
    "     0.00165767,0.0006482,0.00058069,0.00055073,0.00055514,0.0005072,0.00014844,0.])\n",
    "P_input = [0.30445319,  0.35455676,  0.39906515,  0.44914481,  0.49916705,  0.54897325,\n",
    "  0.59911312,  0.70041378,  0.79602164,  0.88106023,  0.93408762,  0.96615712,\n",
    "  0.97399365,  0.97956734,  0.98856465,  0.99454603]\n",
    "#Vp1 = np.around(Vp1,8)\n",
    "#Vp = np.around(Vp,8)\n",
    "print(max(Vp_output-Vp))\n",
    "#if \n",
    "#Vp1-Vp"
   ]
  },
  {
   "cell_type": "code",
   "execution_count": null,
   "metadata": {
    "collapsed": true
   },
   "outputs": [],
   "source": []
  }
 ],
 "metadata": {
  "anaconda-cloud": {},
  "kernelspec": {
   "display_name": "Python [Root]",
   "language": "python",
   "name": "Python [Root]"
  },
  "language_info": {
   "codemirror_mode": {
    "name": "ipython",
    "version": 3
   },
   "file_extension": ".py",
   "mimetype": "text/x-python",
   "name": "python",
   "nbconvert_exporter": "python",
   "pygments_lexer": "ipython3",
   "version": "3.5.2"
  }
 },
 "nbformat": 4,
 "nbformat_minor": 0
}

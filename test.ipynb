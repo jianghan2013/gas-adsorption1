{
 "cells": [
  {
   "cell_type": "code",
   "execution_count": 2,
   "metadata": {
    "collapsed": true
   },
   "outputs": [],
   "source": [
    "import matplotlib.pyplot as plt\n",
    "import numpy as np\n",
    "import pandas as pd\n",
    "#import os\n",
    "#plt.style.use('ggplot')\n",
    "%matplotlib inline\n",
    "#"
   ]
  },
  {
   "cell_type": "code",
   "execution_count": 3,
   "metadata": {
    "collapsed": false
   },
   "outputs": [],
   "source": [
    "from BJH_function import BJH_calculation\n",
    "#from BJH_function import test_isotherm"
   ]
  },
  {
   "cell_type": "code",
   "execution_count": 6,
   "metadata": {
    "collapsed": false
   },
   "outputs": [
    {
     "data": {
      "text/plain": [
       "<matplotlib.figure.Figure at 0x9e75cc0>"
      ]
     },
     "metadata": {},
     "output_type": "display_data"
    },
    {
     "data": {
      "image/png": "[encoded data removed]",
      "text/plain": [
       "<matplotlib.figure.Figure at 0x9daad68>"
      ]
     },
     "metadata": {},
     "output_type": "display_data"
    }
   ],
   "source": [
    "filename = 'pyrolysis_2_93.xlsx'\n",
    "filename ='test_iso.xlsx'\n",
    "sheetname = '3_14_110_N2'\n",
    "gas_type = 'N2'\n",
    "use_pressure = True\n",
    "iso_df = pd.read_excel(filename,sheetname=sheetname)\n",
    "p_measure = np.array(iso_df['p_rels'])\n",
    "Q_measure = np.array(iso_df['q_abs'])\n",
    "Davg,Vp,Vp_ccum,Vp_dlogD = BJH_calculation.BJH_main(p_measure,Q_measure,use_pressure=use_pressure,gas_type=gas_type)\n",
    "figure = plt.figure()\n",
    "fig,axis = plt.subplots()\n",
    "axis.set_title(sheetname)\n",
    "axis.semilogx(Davg[1:],Vp[1:],'g.-')\n",
    "axis.set_ylim([0,0.005])\n",
    "plt.grid()"
   ]
  },
  {
   "cell_type": "code",
   "execution_count": 76,
   "metadata": {
    "collapsed": true
   },
   "outputs": [],
   "source": [
    "from scipy.interpolate import InterpolatedUnivariateSpline\n",
    "def get_spline(p_rels,v_stp,order=2):\n",
    "    s = InterpolatedUnivariateSpline(p_rels,v_stp, k=order)\n",
    "    return s\n",
    "def use_my_pressure(p_exp,Q_exp,gas_type='N2'):\n",
    "    const = BJH_calculation.get_gas_constant(gas_type)\n",
    "    # predefine the radius \n",
    "    radius_s = np.array([8,9,10,11,12,13,14,16,19,27,42,75,140,279,360,460,828,1600])\n",
    "    # convert radius to pressure\n",
    "    p_s = BJH_calculation.radius_to_pressure(radius_s,const)\n",
    "    func_spline = get_spline(p_exp,Q_exp,2)\n",
    "    # get Q_s from spline function \n",
    "    Q_s = func_spline(p_s) \n",
    "    return p_s,Q_s"
   ]
  },
  {
   "cell_type": "code",
   "execution_count": 65,
   "metadata": {
    "collapsed": false
   },
   "outputs": [
    {
     "name": "stdout",
     "output_type": "stream",
     "text": [
      "[    8.77873109    10.06860119    11.36474236    13.0433165     15.02559382\n",
      "    17.40854285    20.37849141    29.31892439    45.76359967    82.4453806\n",
      "   153.11277931   303.23443184   396.19749277   505.70872984   907.72849544\n",
      "  1908.97719037]\n",
      "[ 0.30445319  0.35455676  0.39906515  0.44914481  0.49916705  0.54897325\n",
      "  0.59911312  0.70041378  0.79602164  0.88106023  0.93408762  0.96615712\n",
      "  0.97399365  0.97956734  0.98856465  0.99454603]\n",
      "[ 0.12393476  0.1755204   0.22505092  0.27117254  0.31348618  0.35204369\n",
      "  0.38709277  0.41895155  0.44794854  0.47439533  0.52074229  0.57725355\n",
      "  0.6793175   0.77991415  0.870054    0.92814118  0.9632721   0.97141646\n",
      "  0.97755996  0.98747046  0.99387764]\n"
     ]
    },
    {
     "data": {
      "text/plain": [
       "[<matplotlib.lines.Line2D at 0xb883978>]"
      ]
     },
     "execution_count": 65,
     "metadata": {},
     "output_type": "execute_result"
    },
    {
     "data": {
      "image/png": "[encoded data removed]",
      "text/plain": [
       "<matplotlib.figure.Figure at 0xb7c2518>"
      ]
     },
     "metadata": {},
     "output_type": "display_data"
    }
   ],
   "source": [
    "#P_s = np.arange(0.3,1.0,0.05)\n",
    "p_rels,Q,volume = test_isotherm.shale_3_14()\n",
    "const = BJH_calculation.get_gas_constant('Ar')\n",
    "radius = BJH_calculation.kelvin_radius(p_rels,const)\n",
    "print(radius)\n",
    "radius_s = np.array([5,6,7,8,9,10,11,12,13,14,16,19,27,42,75,140,279,360,460,828,1700])\n",
    "p_s = BJH_calculation.radius_to_pressure(radius_s,const)\n",
    "print(p_rels)\n",
    "print(p_s)\n",
    "\n",
    "#Q = np.arange(0.6,1.8,0.2)\n",
    "#P.any()>0.2\n",
    "#print(Q)\n",
    "#P_s = p_rels\n",
    "func_spline = get_spline(p_rels,Q)\n",
    "Q_s = func_spline(p_s) \n",
    "p_s,Q_s = BJH_calculation.restrict_isotherm( p_s, Q_s, 0.3, 0.9946)\n",
    "p1,Q1 = use_my_pressure(p_rels,Q,'Ar')\n",
    "#print(Q_s)\n",
    "#print(Q)\n",
    "figure = plt.figure\n",
    "fig,axis = plt.subplots()\n",
    "axis.plot(p_rels,Q,'k.-')\n",
    "axis.plot(p_s,Q_s,'ro')\n",
    "axis.plot(p1,Q1,'g.')\n",
    "#axis.set_ylim([0,0.5])\n",
    "#\n",
    "\n",
    "#P_s = P1 \n",
    "\n",
    "#Q_s"
   ]
  },
  {
   "cell_type": "code",
   "execution_count": 77,
   "metadata": {
    "collapsed": false,
    "scrolled": false
   },
   "outputs": [
    {
     "name": "stdout",
     "output_type": "stream",
     "text": [
      "[    0.          2032.43606057  1142.16034405   843.27835838   664.90329367\n",
      "   378.4083863    216.89844916   133.12303105    92.68046076    70.66085925\n",
      "    60.41767246    54.78312515    51.41113121    48.97934926    46.52419876\n",
      "    44.04242665    19.12917383     0.        ]\n"
     ]
    },
    {
     "data": {
      "text/plain": [
       "<matplotlib.figure.Figure at 0xb5be748>"
      ]
     },
     "metadata": {},
     "output_type": "display_data"
    },
    {
     "data": {
      "image/png": "[encoded data removed]",
      "text/plain": [
       "<matplotlib.figure.Figure at 0xba2de10>"
      ]
     },
     "metadata": {},
     "output_type": "display_data"
    },
    {
     "data": {
      "text/plain": [
       "<matplotlib.figure.Figure at 0xcd78fd0>"
      ]
     },
     "metadata": {},
     "output_type": "display_data"
    },
    {
     "data": {
      "image/png": "[encoded data removed]",
      "text/plain": [
       "<matplotlib.figure.Figure at 0xce4f278>"
      ]
     },
     "metadata": {},
     "output_type": "display_data"
    }
   ],
   "source": [
    "# data reading \n",
    "#p = np.array([0.1,0.6,0.9])\n",
    "#Q = np.array([1,10,12])\n",
    "filename = 'pyrolysis_2_93.xlsx'\n",
    "filename ='test_iso.xlsx'\n",
    "sheetname = '3_14_650_Ar'\n",
    "gas_type = 'Ar'\n",
    "force = True\n",
    "\n",
    "iso_df = pd.read_excel(filename,sheetname=sheetname)\n",
    "#software_result = pd.read_excel('test_psd.xlsx',sheetname=sheetname)\n",
    "p_measure = np.array(iso_df['p_rels'])\n",
    "Q_measure = np.array(iso_df['q_abs'])\n",
    "#print(p_measure,Q_measure)\n",
    "\n",
    "if force:\n",
    "    p,Q = use_my_pressure(p_measure,Q_measure,gas_type)\n",
    "    p,Q = BJH_calculation.restrict_isotherm( p, Q, 0.3, 0.9946)\n",
    "else:\n",
    "    p = p_measure\n",
    "    Q = Q_measure\n",
    "Davg,LP,Dp,dV_desorp,k = BJH_calculation.BJH(p,Q,gas_type)\n",
    "Vp,Vp_ccum,Vp_dlogD = BJH_calculation.result_psd(Davg,LP,Dp,k)\n",
    "\n",
    "figure = plt.figure()\n",
    "fig,axis = plt.subplots()\n",
    "axis.set_title(sheetname)\n",
    "plt.plot(p_measure,Q_measure,'ko-')\n",
    "plt.plot(p,Q,'r.')\n",
    "print(Davg)\n",
    "figure = plt.figure()\n",
    "fig,axis = plt.subplots()\n",
    "axis.set_title(sheetname)\n",
    "axis.semilogx(Davg[1:],Vp[1:],'g.-')\n",
    "axis.set_ylim([0,0.006])\n",
    "#plt.semilogx(Davg[1:],dV_desorp[1:],'r.-')\n",
    "#plt.semilogx(software_result['D'],software_result['IPV'],'k.-')\n",
    "#axis\n",
    "plt.grid()"
   ]
  },
  {
   "cell_type": "code",
   "execution_count": 8,
   "metadata": {
    "collapsed": false
   },
   "outputs": [
    {
     "ename": "ValueError",
     "evalue": "operands could not be broadcast together with shapes (17,) (18,) ",
     "traceback": [
      "\u001b[1;31m---------------------------------------------------------------------------\u001b[0m",
      "\u001b[1;31mValueError\u001b[0m                                Traceback (most recent call last)",
      "\u001b[1;32m<ipython-input-8-d09f8f38e12f>\u001b[0m in \u001b[0;36m<module>\u001b[1;34m()\u001b[0m\n\u001b[0;32m      6\u001b[0m \u001b[1;31m#Vp1 = np.around(Vp1,8)\u001b[0m\u001b[1;33m\u001b[0m\u001b[1;33m\u001b[0m\u001b[0m\n\u001b[0;32m      7\u001b[0m \u001b[1;31m#Vp = np.around(Vp,8)\u001b[0m\u001b[1;33m\u001b[0m\u001b[1;33m\u001b[0m\u001b[0m\n\u001b[1;32m----> 8\u001b[1;33m \u001b[0mprint\u001b[0m\u001b[1;33m(\u001b[0m\u001b[0mmax\u001b[0m\u001b[1;33m(\u001b[0m\u001b[0mVp_output\u001b[0m\u001b[1;33m-\u001b[0m\u001b[0mVp\u001b[0m\u001b[1;33m)\u001b[0m\u001b[1;33m)\u001b[0m\u001b[1;33m\u001b[0m\u001b[0m\n\u001b[0m",
      "\u001b[1;31mValueError\u001b[0m: operands could not be broadcast together with shapes (17,) (18,) "
     ],
     "output_type": "error"
    }
   ],
   "source": [
    "Vp_output=np.array([0.,0.00330746,0.00375936,0.00180339,0.00218147,0.00640208,0.00562806,0.00436971,0.00254612,\n",
    "     0.00165767,0.0006482,0.00058069,0.00055073,0.00055514,0.0005072,0.00014844,0.])\n",
    "P_input = [0.30445319,  0.35455676,  0.39906515,  0.44914481,  0.49916705,  0.54897325,\n",
    "  0.59911312,  0.70041378,  0.79602164,  0.88106023,  0.93408762,  0.96615712,\n",
    "  0.97399365,  0.97956734,  0.98856465,  0.99454603]\n",
    "#Vp1 = np.around(Vp1,8)\n",
    "#Vp = np.around(Vp,8)\n",
    "print(max(Vp_output-Vp))"
   ]
  },
  {
   "cell_type": "code",
   "execution_count": 13,
   "metadata": {
    "collapsed": true
   },
   "outputs": [],
   "source": [
    "import numpy as np\n",
    "\n",
    "def result_psd(Davg,LP,Dp,k):\n",
    "    Vp = np.pi*LP*(Davg/2.0)**2 *10**(-16) # return Vp vector[cm^3/g]\n",
    "    Vp_ccum = np.add.accumulate(Vp)\n",
    "    Vp_dlogD = np.zeros(len(Vp))\n",
    "    for i in range(1,k+1):\n",
    "        Vp_dlogD[i] = Vp[i]/ np.log10(Dp[i]/Dp[i+1])\n",
    "    return Vp,Vp_ccum,Vp_dlogD"
   ]
  },
  {
   "cell_type": "code",
   "execution_count": null,
   "metadata": {
    "collapsed": true
   },
   "outputs": [],
   "source": [
    ""
   ]
  }
 ],
 "metadata": {
  "anaconda-cloud": {},
  "kernelspec": {
   "display_name": "Python [Root]",
   "language": "python",
   "name": "Python [Root]"
  },
  "language_info": {
   "codemirror_mode": {
    "name": "ipython",
    "version": 3.0
   },
   "file_extension": ".py",
   "mimetype": "text/x-python",
   "name": "python",
   "nbconvert_exporter": "python",
   "pygments_lexer": "ipython3",
   "version": "3.5.2"
  }
 },
 "nbformat": 4,
 "nbformat_minor": 0
}
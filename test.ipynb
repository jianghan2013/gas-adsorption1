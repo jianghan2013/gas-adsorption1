{
 "cells": [
  {
   "cell_type": "code",
   "execution_count": 1,
   "metadata": {
    "collapsed": true
   },
   "outputs": [],
   "source": [
    "import matplotlib.pyplot as plt\n",
    "import numpy as np\n",
    "import pandas as pd\n",
    "#import os\n",
    "%matplotlib inline"
   ]
  },
  {
   "cell_type": "code",
   "execution_count": 2,
   "metadata": {
    "collapsed": false
   },
   "outputs": [],
   "source": [
    "from BJH_function import BJH_calculation"
   ]
  },
  {
   "cell_type": "code",
   "execution_count": 23,
   "metadata": {
    "collapsed": false
   },
   "outputs": [
    {
     "name": "stdout",
     "output_type": "stream",
     "text": [
      "[ 0.2  0.4  0.6  0.8  1.   1.2  1.4  1.6]\n"
     ]
    },
    {
     "data": {
      "text/plain": [
       "(array([ 0.3,  0.4,  0.5,  0.6,  0.7,  0.8]),\n",
       " array([ 0.6,  0.8,  1. ,  1.2,  1.4,  1.6]))"
      ]
     },
     "execution_count": 23,
     "metadata": {},
     "output_type": "execute_result"
    }
   ],
   "source": [
    "P = np.arange(0.1,0.9,0.1)\n",
    "Q = np.arange(0.2,1.8,0.2)\n",
    "#P.any()>0.2\n",
    "print(Q)\n",
    "P1,Q1 = BJH_calculation.restrict_isotherm( P, Q, 0.3, 0.8 )\n",
    "P1,Q1"
   ]
  },
  {
   "cell_type": "code",
   "execution_count": 11,
   "metadata": {
    "collapsed": false,
    "scrolled": true
   },
   "outputs": [
    {
     "name": "stdout",
     "output_type": "stream",
     "text": [
      "[ 0.30172053  0.35236332  0.39985837  0.4503389   0.50048209  0.55003418\n",
      "  0.60073185  0.64921966  0.69962655  0.74907074  0.79740065  0.82485176\n",
      "  0.84977179  0.87394592  0.89756902  0.92139211  0.94524444  0.95825888\n",
      "  0.96827823  0.97853392  0.98808075  0.99432932] [  3.65955819   3.85920157   4.05965619   4.27620265   4.50664211\n",
      "   4.76478654   5.04815707   5.36203493   5.75162377   6.22599907\n",
      "   6.84416604   7.31068208   7.83797057   8.49888384   9.34452062\n",
      "  10.53552529  12.28947244  13.62151397  15.01545607  16.70996493\n",
      "  18.73848913  20.4642987 ]\n"
     ]
    }
   ],
   "source": [
    "# data reading \n",
    "p = np.array([0.1,0.6,0.9])\n",
    "Q = np.array([1,10,12])\n",
    "iso_df = pd.read_excel('test_iso.xlsx',sheetname='3_14_450_Ar')\n",
    "software_result = pd.read_excel('test_psd.xlsx',sheetname='3_14_450_Ar')\n",
    "p_measure = np.array(iso_df['p_rels'])\n",
    "Q_measure = np.array(iso_df['q_abs'])\n",
    "print(p_measure,Q_measure)\n",
    "p = p_measure\n",
    "Q = Q_measure\n",
    "Davg,LP,Dp,dV_desorp,k = BJH_calculation.BJH(p,Q,'Ar')\n",
    "Vp,Vp_ccum,Vp_dlogD = BJH_calculation.result_psd(Davg,LP,Dp,k)"
   ]
  },
  {
   "cell_type": "code",
   "execution_count": 12,
   "metadata": {
    "collapsed": false
   },
   "outputs": [
    {
     "data": {
      "image/png": "[encoded data removed]",
      "text/plain": [
       "<matplotlib.figure.Figure at 0xb974438>"
      ]
     },
     "metadata": {},
     "output_type": "display_data"
    }
   ],
   "source": [
    "figure = plt.figure()\n",
    "plt.semilogx(Davg[1:],Vp[1:],'g.-')\n",
    "#plt.semilogx(Davg[1:],dV_desorp[1:],'r.-')\n",
    "plt.semilogx(software_result['D'],software_result['IPV'],'k.-')\n",
    "plt.grid()"
   ]
  },
  {
   "cell_type": "code",
   "execution_count": 12,
   "metadata": {
    "collapsed": false
   },
   "outputs": [
    {
     "name": "stdout",
     "output_type": "stream",
     "text": [
      "4.54274594656e-09\n"
     ]
    }
   ],
   "source": [
    "Vp_output=np.array([0.,0.00330746,0.00375936,0.00180339,0.00218147,0.00640208,0.00562806,0.00436971,0.00254612,\n",
    "     0.00165767,0.0006482,0.00058069,0.00055073,0.00055514,0.0005072,0.00014844,0.])\n",
    "P_input = [0.30445319,  0.35455676,  0.39906515,  0.44914481,  0.49916705,  0.54897325,\n",
    "  0.59911312,  0.70041378,  0.79602164,  0.88106023,  0.93408762,  0.96615712,\n",
    "  0.97399365,  0.97956734,  0.98856465,  0.99454603]\n",
    "#Vp1 = np.around(Vp1,8)\n",
    "#Vp = np.around(Vp,8)\n",
    "print(max(Vp_output-Vp))"
   ]
  },
  {
   "cell_type": "code",
   "execution_count": 13,
   "metadata": {
    "collapsed": true
   },
   "outputs": [],
   "source": [
    "import numpy as np\n",
    "\n",
    "def result_psd(Davg,LP,Dp,k):\n",
    "    Vp = np.pi*LP*(Davg/2.0)**2 *10**(-16) # return Vp vector[cm^3/g]\n",
    "    Vp_ccum = np.add.accumulate(Vp)\n",
    "    Vp_dlogD = np.zeros(len(Vp))\n",
    "    for i in range(1,k+1):\n",
    "        Vp_dlogD[i] = Vp[i]/ np.log10(Dp[i]/Dp[i+1])\n",
    "    return Vp,Vp_ccum,Vp_dlogD"
   ]
  },
  {
   "cell_type": "code",
   "execution_count": null,
   "metadata": {
    "collapsed": true
   },
   "outputs": [],
   "source": [
    ""
   ]
  }
 ],
 "metadata": {
  "anaconda-cloud": {},
  "kernelspec": {
   "display_name": "Python [Root]",
   "language": "python",
   "name": "Python [Root]"
  },
  "language_info": {
   "codemirror_mode": {
    "name": "ipython",
    "version": 3.0
   },
   "file_extension": ".py",
   "mimetype": "text/x-python",
   "name": "python",
   "nbconvert_exporter": "python",
   "pygments_lexer": "ipython3",
   "version": "3.5.2"
  }
 },
 "nbformat": 4,
 "nbformat_minor": 0
}
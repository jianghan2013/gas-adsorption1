{
 "cells": [
  {
   "cell_type": "code",
   "execution_count": null,
   "metadata": {
    "collapsed": true
   },
   "outputs": [],
   "source": [
    "import matplotlib.pyplot as plt\n",
    "import numpy as np\n",
    "import pandas as pd\n",
    "#import os\n",
    "%matplotlib inline"
   ]
  },
  {
   "cell_type": "code",
   "execution_count": 4,
   "metadata": {
    "collapsed": false
   },
   "outputs": [],
   "source": [
    "from BJH_function import BJH_calculation"
   ]
  },
  {
   "cell_type": "code",
   "execution_count": 5,
   "metadata": {
    "collapsed": false
   },
   "outputs": [
    {
     "data": {
      "text/plain": [
       "{'A': 9.53, 'Vmol': 34.67}"
      ]
     },
     "execution_count": 5,
     "metadata": {},
     "output_type": "execute_result"
    }
   ],
   "source": [
    "N2 ="
   ]
  },
  {
   "cell_type": "code",
   "execution_count": 2,
   "metadata": {
    "collapsed": false
   },
   "outputs": [
    {
     "ename": "ImportError",
     "evalue": "cannot import name 'get_gas_constant'",
     "traceback": [
      "\u001b[1;31m---------------------------------------------------------------------------\u001b[0m",
      "\u001b[1;31mImportError\u001b[0m                               Traceback (most recent call last)",
      "\u001b[1;32m<ipython-input-2-108c3b43240a>\u001b[0m in \u001b[0;36m<module>\u001b[1;34m()\u001b[0m\n\u001b[0;32m      1\u001b[0m \u001b[1;32mimport\u001b[0m \u001b[0munittest\u001b[0m\u001b[1;33m\u001b[0m\u001b[0m\n\u001b[1;32m----> 2\u001b[1;33m \u001b[1;32mfrom\u001b[0m \u001b[0mBJH_function\u001b[0m \u001b[1;32mimport\u001b[0m \u001b[0mget_gas_constant\u001b[0m\u001b[1;33m\u001b[0m\u001b[0m\n\u001b[0m",
      "\u001b[1;31mImportError\u001b[0m: cannot import name 'get_gas_constant'"
     ],
     "output_type": "error"
    }
   ],
   "source": [
    "import unittest"
   ]
  },
  {
   "cell_type": "code",
   "execution_count": 10,
   "metadata": {
    "collapsed": false
   },
   "outputs": [
    {
     "name": "stdout",
     "output_type": "stream",
     "text": [
      "9.53 9.53\n"
     ]
    }
   ],
   "source": [
    "N2_model = {'A':9.53,'Vmol':34.67}\n",
    "N2 = BJH_calculation.get_gas_constant()\n",
    "print(N2['A'],N2_model['A'])"
   ]
  },
  {
   "cell_type": "code",
   "execution_count": 14,
   "metadata": {
    "collapsed": false
   },
   "outputs": [
    {
     "name": "stderr",
     "output_type": "stream",
     "text": [
      "E\n",
      "======================================================================\n",
      "ERROR: C:\\Users\\hj5446\\AppData\\Roaming\\jupyter\\runtime\\kernel-f4fa9980-666f-40b5-915a-f6a09f34e0f5 (unittest.loader._FailedTest)\n",
      "----------------------------------------------------------------------\n",
      "AttributeError: module '__main__' has no attribute 'C:\\Users\\hj5446\\AppData\\Roaming\\jupyter\\runtime\\kernel-f4fa9980-666f-40b5-915a-f6a09f34e0f5'\n",
      "\n",
      "----------------------------------------------------------------------\n",
      "Ran 1 test in 0.002s\n",
      "\n",
      "FAILED (errors=1)\n"
     ]
    },
    {
     "ename": "SystemExit",
     "evalue": "True",
     "traceback": [
      "An exception has occurred, use %tb to see the full traceback.\n",
      "\u001b[1;31mSystemExit\u001b[0m\u001b[1;31m:\u001b[0m True\n"
     ],
     "output_type": "error"
    },
    {
     "name": "stderr",
     "output_type": "stream",
     "text": [
      "To exit: use 'exit', 'quit', or Ctrl-D.\n"
     ]
    }
   ],
   "source": [
    "class TestBJH_Method(unittest.TestCase):\n",
    "    \n",
    "    def test_get_gas_constant(self):\n",
    "        N2_model = {'A':9.53,'Vmol':34.67}\n",
    "        N2 = BJH_calculation.get_gas_constant()\n",
    "        print(N2['A'],N2_model['A'])\n",
    "        self.assertTrue(True)\n",
    "    \n",
    "#TestBJH_Method()    \n",
    "if __name__ == '__main__':\n",
    "    unittest.main()"
   ]
  },
  {
   "cell_type": "code",
   "execution_count": 15,
   "metadata": {
    "collapsed": false,
    "scrolled": true
   },
   "outputs": [
    {
     "name": "stderr",
     "output_type": "stream",
     "text": [
      "E\n",
      "======================================================================\n",
      "ERROR: C:\\Users\\hj5446\\AppData\\Roaming\\jupyter\\runtime\\kernel-f4fa9980-666f-40b5-915a-f6a09f34e0f5 (unittest.loader._FailedTest)\n",
      "----------------------------------------------------------------------\n",
      "AttributeError: module '__main__' has no attribute 'C:\\Users\\hj5446\\AppData\\Roaming\\jupyter\\runtime\\kernel-f4fa9980-666f-40b5-915a-f6a09f34e0f5'\n",
      "\n",
      "----------------------------------------------------------------------\n",
      "Ran 1 test in 0.001s\n",
      "\n",
      "FAILED (errors=1)\n"
     ]
    },
    {
     "ename": "SystemExit",
     "evalue": "True",
     "traceback": [
      "An exception has occurred, use %tb to see the full traceback.\n",
      "\u001b[1;31mSystemExit\u001b[0m\u001b[1;31m:\u001b[0m True\n"
     ],
     "output_type": "error"
    },
    {
     "name": "stderr",
     "output_type": "stream",
     "text": [
      "To exit: use 'exit', 'quit', or Ctrl-D.\n"
     ]
    }
   ],
   "source": [
    "import unittest\n",
    "\n",
    "class TestStringMethods(unittest.TestCase):\n",
    "\n",
    "    def test_upper(self):\n",
    "        self.assertEqual('foo'.upper(), 'FOO')\n",
    "\n",
    "    def test_isupper(self):\n",
    "        self.assertTrue('FOO'.isupper())\n",
    "        self.assertFalse('Foo'.isupper())\n",
    "\n",
    "    def test_split(self):\n",
    "        s = 'hello world'\n",
    "        self.assertEqual(s.split(), ['hello', 'world'])\n",
    "        # check that s.split fails when the separator is not a string\n",
    "        with self.assertRaises(TypeError):\n",
    "            s.split(2)\n",
    "\n",
    "if __name__ == '__main__':\n",
    "    unittest.main()"
   ]
  },
  {
   "cell_type": "code",
   "execution_count": 3,
   "metadata": {
    "collapsed": false
   },
   "outputs": [
    {
     "name": "stdout",
     "output_type": "stream",
     "text": [
      "[ 0.30445319  0.35455676  0.39906515  0.44914481  0.49916705  0.54897325\n",
      "  0.59911312  0.70041378  0.79602164  0.88106023  0.93408762  0.96615712\n",
      "  0.97399365  0.97956734  0.98856465  0.99454603] [  3.59500861   3.83271776   4.05340358   4.3075434    4.57261985\n",
      "   4.85873669   5.18098707   5.99158748   7.2030932    9.26471226\n",
      "  12.06903614  15.5078227   16.76395245  17.82505854  20.08334045\n",
      "  22.13072114]\n",
      "\n",
      "istep/nstep 1 16\n",
      "\n",
      "istep/nstep 2 16\n",
      "\n",
      "istep/nstep 3 16\n",
      "\n",
      "istep/nstep 4 16\n",
      "\n",
      "istep/nstep 5 16\n",
      "\n",
      "istep/nstep 6 16\n",
      "\n",
      "istep/nstep 7 16\n",
      "\n",
      "istep/nstep 8 16\n",
      "\n",
      "istep/nstep 9 16\n",
      "\n",
      "istep/nstep 10 16\n",
      "\n",
      "istep/nstep 11 16\n",
      "\n",
      "istep/nstep 12 16\n",
      "\n",
      "istep/nstep 13 16\n",
      "\n",
      "istep/nstep 14 16\n",
      "\n",
      "istep/nstep 15 16\n",
      "\n",
      "istep/nstep 16 16\n"
     ]
    }
   ],
   "source": [
    "# data reading \n",
    "p = np.array([0.1,0.6,0.9])\n",
    "Q = np.array([1,10,12])\n",
    "iso_df = pd.read_excel('test_iso.xlsx',sheetname='3_14')\n",
    "software_result = pd.read_excel('test_psd.xlsx',sheetname='3_14')\n",
    "p_measure = np.array(iso_df['p_rels'])\n",
    "Q_measure = np.array(iso_df['q_abs'])\n",
    "print(p_measure,Q_measure)\n",
    "p = p_measure\n",
    "Q = Q_measure\n",
    "Davg,LP,Dp,dV_desorp,k = BJH_calculation.BJH(p,Q,'N2')\n",
    "Vp,Vp_ccum,Vp_dlogD = BJH_calculation.result_psd(Davg,LP,Dp,k)"
   ]
  },
  {
   "cell_type": "code",
   "execution_count": 4,
   "metadata": {
    "collapsed": false
   },
   "outputs": [
    {
     "data": {
      "image/png": "[encoded data removed]",
      "text/plain": [
       "<matplotlib.figure.Figure at 0x9e575f8>"
      ]
     },
     "metadata": {},
     "output_type": "display_data"
    }
   ],
   "source": [
    "figure = plt.figure()\n",
    "plt.semilogx(Davg[1:],Vp[1:],'g.-')\n",
    "#plt.semilogx(Davg[1:],dV_desorp[1:],'r.-')\n",
    "plt.semilogx(software_result['D'],software_result['IPV'],'k.-')\n",
    "plt.grid()"
   ]
  },
  {
   "cell_type": "code",
   "execution_count": 5,
   "metadata": {
    "collapsed": false
   },
   "outputs": [
    {
     "name": "stdout",
     "output_type": "stream",
     "text": [
      "3.69158586338e-06\n"
     ]
    }
   ],
   "source": [
    "Vp_output=np.array([0.,0.00330746,0.00375936,0.00180339,0.00218147,0.00640208,0.00562806,0.00436971,0.00254612,\n",
    "     0.00165767,0.0006482,0.00058069,0.00055073,0.00055514,0.0005072,0.00014844,0.])\n",
    "P_input = [0.30445319,  0.35455676,  0.39906515,  0.44914481,  0.49916705,  0.54897325,\n",
    "  0.59911312,  0.70041378,  0.79602164,  0.88106023,  0.93408762,  0.96615712,\n",
    "  0.97399365,  0.97956734,  0.98856465,  0.99454603]\n",
    "#Vp1 = np.around(Vp1,8)\n",
    "#Vp = np.around(Vp,8)\n",
    "print(max(Vp_output-Vp))"
   ]
  },
  {
   "cell_type": "code",
   "execution_count": 3,
   "metadata": {
    "collapsed": true
   },
   "outputs": [],
   "source": [
    "import numpy as np\n",
    "\n",
    "def result_psd(Davg,LP,Dp,k):\n",
    "    Vp = np.pi*LP*(Davg/2.0)**2 *10**(-16) # return Vp vector[cm^3/g]\n",
    "    Vp_ccum = np.add.accumulate(Vp)\n",
    "    Vp_dlogD = np.zeros(len(Vp))\n",
    "    for i in range(1,k+1):\n",
    "        Vp_dlogD[i] = Vp[i]/ np.log10(Dp[i]/Dp[i+1])\n",
    "    return Vp,Vp_ccum,Vp_dlogD"
   ]
  },
  {
   "cell_type": "code",
   "execution_count": null,
   "metadata": {
    "collapsed": true
   },
   "outputs": [],
   "source": [
    ""
   ]
  }
 ],
 "metadata": {
  "anaconda-cloud": {},
  "kernelspec": {
   "display_name": "Python [Root]",
   "language": "python",
   "name": "Python [Root]"
  },
  "language_info": {
   "codemirror_mode": {
    "name": "ipython",
    "version": 3.0
   },
   "file_extension": ".py",
   "mimetype": "text/x-python",
   "name": "python",
   "nbconvert_exporter": "python",
   "pygments_lexer": "ipython3",
   "version": "3.5.2"
  }
 },
 "nbformat": 4,
 "nbformat_minor": 0
}